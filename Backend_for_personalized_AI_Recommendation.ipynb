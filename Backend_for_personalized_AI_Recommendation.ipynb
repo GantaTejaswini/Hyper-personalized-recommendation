{
  "cells": [
    {
      "cell_type": "code",
      "source": [
        "from google.colab import files\n",
        "uploaded = files.upload()"
      ],
      "metadata": {
        "id": "jbh-Xk_skspi",
        "outputId": "6a45296c-8be5-401b-ee01-66431fcdc93f",
        "colab": {
          "base_uri": "https://localhost:8080/",
          "height": 73
        }
      },
      "execution_count": null,
      "outputs": [
        {
          "output_type": "display_data",
          "data": {
            "text/plain": [
              "<IPython.core.display.HTML object>"
            ],
            "text/html": [
              "\n",
              "     <input type=\"file\" id=\"files-aba4b7bd-be62-4f58-ab58-c569da8792d6\" name=\"files[]\" multiple disabled\n",
              "        style=\"border:none\" />\n",
              "     <output id=\"result-aba4b7bd-be62-4f58-ab58-c569da8792d6\">\n",
              "      Upload widget is only available when the cell has been executed in the\n",
              "      current browser session. Please rerun this cell to enable.\n",
              "      </output>\n",
              "      <script>// Copyright 2017 Google LLC\n",
              "//\n",
              "// Licensed under the Apache License, Version 2.0 (the \"License\");\n",
              "// you may not use this file except in compliance with the License.\n",
              "// You may obtain a copy of the License at\n",
              "//\n",
              "//      http://www.apache.org/licenses/LICENSE-2.0\n",
              "//\n",
              "// Unless required by applicable law or agreed to in writing, software\n",
              "// distributed under the License is distributed on an \"AS IS\" BASIS,\n",
              "// WITHOUT WARRANTIES OR CONDITIONS OF ANY KIND, either express or implied.\n",
              "// See the License for the specific language governing permissions and\n",
              "// limitations under the License.\n",
              "\n",
              "/**\n",
              " * @fileoverview Helpers for google.colab Python module.\n",
              " */\n",
              "(function(scope) {\n",
              "function span(text, styleAttributes = {}) {\n",
              "  const element = document.createElement('span');\n",
              "  element.textContent = text;\n",
              "  for (const key of Object.keys(styleAttributes)) {\n",
              "    element.style[key] = styleAttributes[key];\n",
              "  }\n",
              "  return element;\n",
              "}\n",
              "\n",
              "// Max number of bytes which will be uploaded at a time.\n",
              "const MAX_PAYLOAD_SIZE = 100 * 1024;\n",
              "\n",
              "function _uploadFiles(inputId, outputId) {\n",
              "  const steps = uploadFilesStep(inputId, outputId);\n",
              "  const outputElement = document.getElementById(outputId);\n",
              "  // Cache steps on the outputElement to make it available for the next call\n",
              "  // to uploadFilesContinue from Python.\n",
              "  outputElement.steps = steps;\n",
              "\n",
              "  return _uploadFilesContinue(outputId);\n",
              "}\n",
              "\n",
              "// This is roughly an async generator (not supported in the browser yet),\n",
              "// where there are multiple asynchronous steps and the Python side is going\n",
              "// to poll for completion of each step.\n",
              "// This uses a Promise to block the python side on completion of each step,\n",
              "// then passes the result of the previous step as the input to the next step.\n",
              "function _uploadFilesContinue(outputId) {\n",
              "  const outputElement = document.getElementById(outputId);\n",
              "  const steps = outputElement.steps;\n",
              "\n",
              "  const next = steps.next(outputElement.lastPromiseValue);\n",
              "  return Promise.resolve(next.value.promise).then((value) => {\n",
              "    // Cache the last promise value to make it available to the next\n",
              "    // step of the generator.\n",
              "    outputElement.lastPromiseValue = value;\n",
              "    return next.value.response;\n",
              "  });\n",
              "}\n",
              "\n",
              "/**\n",
              " * Generator function which is called between each async step of the upload\n",
              " * process.\n",
              " * @param {string} inputId Element ID of the input file picker element.\n",
              " * @param {string} outputId Element ID of the output display.\n",
              " * @return {!Iterable<!Object>} Iterable of next steps.\n",
              " */\n",
              "function* uploadFilesStep(inputId, outputId) {\n",
              "  const inputElement = document.getElementById(inputId);\n",
              "  inputElement.disabled = false;\n",
              "\n",
              "  const outputElement = document.getElementById(outputId);\n",
              "  outputElement.innerHTML = '';\n",
              "\n",
              "  const pickedPromise = new Promise((resolve) => {\n",
              "    inputElement.addEventListener('change', (e) => {\n",
              "      resolve(e.target.files);\n",
              "    });\n",
              "  });\n",
              "\n",
              "  const cancel = document.createElement('button');\n",
              "  inputElement.parentElement.appendChild(cancel);\n",
              "  cancel.textContent = 'Cancel upload';\n",
              "  const cancelPromise = new Promise((resolve) => {\n",
              "    cancel.onclick = () => {\n",
              "      resolve(null);\n",
              "    };\n",
              "  });\n",
              "\n",
              "  // Wait for the user to pick the files.\n",
              "  const files = yield {\n",
              "    promise: Promise.race([pickedPromise, cancelPromise]),\n",
              "    response: {\n",
              "      action: 'starting',\n",
              "    }\n",
              "  };\n",
              "\n",
              "  cancel.remove();\n",
              "\n",
              "  // Disable the input element since further picks are not allowed.\n",
              "  inputElement.disabled = true;\n",
              "\n",
              "  if (!files) {\n",
              "    return {\n",
              "      response: {\n",
              "        action: 'complete',\n",
              "      }\n",
              "    };\n",
              "  }\n",
              "\n",
              "  for (const file of files) {\n",
              "    const li = document.createElement('li');\n",
              "    li.append(span(file.name, {fontWeight: 'bold'}));\n",
              "    li.append(span(\n",
              "        `(${file.type || 'n/a'}) - ${file.size} bytes, ` +\n",
              "        `last modified: ${\n",
              "            file.lastModifiedDate ? file.lastModifiedDate.toLocaleDateString() :\n",
              "                                    'n/a'} - `));\n",
              "    const percent = span('0% done');\n",
              "    li.appendChild(percent);\n",
              "\n",
              "    outputElement.appendChild(li);\n",
              "\n",
              "    const fileDataPromise = new Promise((resolve) => {\n",
              "      const reader = new FileReader();\n",
              "      reader.onload = (e) => {\n",
              "        resolve(e.target.result);\n",
              "      };\n",
              "      reader.readAsArrayBuffer(file);\n",
              "    });\n",
              "    // Wait for the data to be ready.\n",
              "    let fileData = yield {\n",
              "      promise: fileDataPromise,\n",
              "      response: {\n",
              "        action: 'continue',\n",
              "      }\n",
              "    };\n",
              "\n",
              "    // Use a chunked sending to avoid message size limits. See b/62115660.\n",
              "    let position = 0;\n",
              "    do {\n",
              "      const length = Math.min(fileData.byteLength - position, MAX_PAYLOAD_SIZE);\n",
              "      const chunk = new Uint8Array(fileData, position, length);\n",
              "      position += length;\n",
              "\n",
              "      const base64 = btoa(String.fromCharCode.apply(null, chunk));\n",
              "      yield {\n",
              "        response: {\n",
              "          action: 'append',\n",
              "          file: file.name,\n",
              "          data: base64,\n",
              "        },\n",
              "      };\n",
              "\n",
              "      let percentDone = fileData.byteLength === 0 ?\n",
              "          100 :\n",
              "          Math.round((position / fileData.byteLength) * 100);\n",
              "      percent.textContent = `${percentDone}% done`;\n",
              "\n",
              "    } while (position < fileData.byteLength);\n",
              "  }\n",
              "\n",
              "  // All done.\n",
              "  yield {\n",
              "    response: {\n",
              "      action: 'complete',\n",
              "    }\n",
              "  };\n",
              "}\n",
              "\n",
              "scope.google = scope.google || {};\n",
              "scope.google.colab = scope.google.colab || {};\n",
              "scope.google.colab._files = {\n",
              "  _uploadFiles,\n",
              "  _uploadFilesContinue,\n",
              "};\n",
              "})(self);\n",
              "</script> "
            ]
          },
          "metadata": {}
        },
        {
          "output_type": "stream",
          "name": "stdout",
          "text": [
            "Saving customer_data_collection.csv to customer_data_collection (1).csv\n"
          ]
        }
      ]
    },
    {
      "cell_type": "code",
      "source": [
        "from google.colab import files\n",
        "uploaded = files.upload()"
      ],
      "metadata": {
        "id": "_icbl88YkyYI",
        "outputId": "bf4abf28-5757-4228-c66d-72263be996fc",
        "colab": {
          "base_uri": "https://localhost:8080/",
          "height": 73
        }
      },
      "execution_count": null,
      "outputs": [
        {
          "output_type": "display_data",
          "data": {
            "text/plain": [
              "<IPython.core.display.HTML object>"
            ],
            "text/html": [
              "\n",
              "     <input type=\"file\" id=\"files-4e10d3a8-6265-4c83-b6ac-4b1911ceca37\" name=\"files[]\" multiple disabled\n",
              "        style=\"border:none\" />\n",
              "     <output id=\"result-4e10d3a8-6265-4c83-b6ac-4b1911ceca37\">\n",
              "      Upload widget is only available when the cell has been executed in the\n",
              "      current browser session. Please rerun this cell to enable.\n",
              "      </output>\n",
              "      <script>// Copyright 2017 Google LLC\n",
              "//\n",
              "// Licensed under the Apache License, Version 2.0 (the \"License\");\n",
              "// you may not use this file except in compliance with the License.\n",
              "// You may obtain a copy of the License at\n",
              "//\n",
              "//      http://www.apache.org/licenses/LICENSE-2.0\n",
              "//\n",
              "// Unless required by applicable law or agreed to in writing, software\n",
              "// distributed under the License is distributed on an \"AS IS\" BASIS,\n",
              "// WITHOUT WARRANTIES OR CONDITIONS OF ANY KIND, either express or implied.\n",
              "// See the License for the specific language governing permissions and\n",
              "// limitations under the License.\n",
              "\n",
              "/**\n",
              " * @fileoverview Helpers for google.colab Python module.\n",
              " */\n",
              "(function(scope) {\n",
              "function span(text, styleAttributes = {}) {\n",
              "  const element = document.createElement('span');\n",
              "  element.textContent = text;\n",
              "  for (const key of Object.keys(styleAttributes)) {\n",
              "    element.style[key] = styleAttributes[key];\n",
              "  }\n",
              "  return element;\n",
              "}\n",
              "\n",
              "// Max number of bytes which will be uploaded at a time.\n",
              "const MAX_PAYLOAD_SIZE = 100 * 1024;\n",
              "\n",
              "function _uploadFiles(inputId, outputId) {\n",
              "  const steps = uploadFilesStep(inputId, outputId);\n",
              "  const outputElement = document.getElementById(outputId);\n",
              "  // Cache steps on the outputElement to make it available for the next call\n",
              "  // to uploadFilesContinue from Python.\n",
              "  outputElement.steps = steps;\n",
              "\n",
              "  return _uploadFilesContinue(outputId);\n",
              "}\n",
              "\n",
              "// This is roughly an async generator (not supported in the browser yet),\n",
              "// where there are multiple asynchronous steps and the Python side is going\n",
              "// to poll for completion of each step.\n",
              "// This uses a Promise to block the python side on completion of each step,\n",
              "// then passes the result of the previous step as the input to the next step.\n",
              "function _uploadFilesContinue(outputId) {\n",
              "  const outputElement = document.getElementById(outputId);\n",
              "  const steps = outputElement.steps;\n",
              "\n",
              "  const next = steps.next(outputElement.lastPromiseValue);\n",
              "  return Promise.resolve(next.value.promise).then((value) => {\n",
              "    // Cache the last promise value to make it available to the next\n",
              "    // step of the generator.\n",
              "    outputElement.lastPromiseValue = value;\n",
              "    return next.value.response;\n",
              "  });\n",
              "}\n",
              "\n",
              "/**\n",
              " * Generator function which is called between each async step of the upload\n",
              " * process.\n",
              " * @param {string} inputId Element ID of the input file picker element.\n",
              " * @param {string} outputId Element ID of the output display.\n",
              " * @return {!Iterable<!Object>} Iterable of next steps.\n",
              " */\n",
              "function* uploadFilesStep(inputId, outputId) {\n",
              "  const inputElement = document.getElementById(inputId);\n",
              "  inputElement.disabled = false;\n",
              "\n",
              "  const outputElement = document.getElementById(outputId);\n",
              "  outputElement.innerHTML = '';\n",
              "\n",
              "  const pickedPromise = new Promise((resolve) => {\n",
              "    inputElement.addEventListener('change', (e) => {\n",
              "      resolve(e.target.files);\n",
              "    });\n",
              "  });\n",
              "\n",
              "  const cancel = document.createElement('button');\n",
              "  inputElement.parentElement.appendChild(cancel);\n",
              "  cancel.textContent = 'Cancel upload';\n",
              "  const cancelPromise = new Promise((resolve) => {\n",
              "    cancel.onclick = () => {\n",
              "      resolve(null);\n",
              "    };\n",
              "  });\n",
              "\n",
              "  // Wait for the user to pick the files.\n",
              "  const files = yield {\n",
              "    promise: Promise.race([pickedPromise, cancelPromise]),\n",
              "    response: {\n",
              "      action: 'starting',\n",
              "    }\n",
              "  };\n",
              "\n",
              "  cancel.remove();\n",
              "\n",
              "  // Disable the input element since further picks are not allowed.\n",
              "  inputElement.disabled = true;\n",
              "\n",
              "  if (!files) {\n",
              "    return {\n",
              "      response: {\n",
              "        action: 'complete',\n",
              "      }\n",
              "    };\n",
              "  }\n",
              "\n",
              "  for (const file of files) {\n",
              "    const li = document.createElement('li');\n",
              "    li.append(span(file.name, {fontWeight: 'bold'}));\n",
              "    li.append(span(\n",
              "        `(${file.type || 'n/a'}) - ${file.size} bytes, ` +\n",
              "        `last modified: ${\n",
              "            file.lastModifiedDate ? file.lastModifiedDate.toLocaleDateString() :\n",
              "                                    'n/a'} - `));\n",
              "    const percent = span('0% done');\n",
              "    li.appendChild(percent);\n",
              "\n",
              "    outputElement.appendChild(li);\n",
              "\n",
              "    const fileDataPromise = new Promise((resolve) => {\n",
              "      const reader = new FileReader();\n",
              "      reader.onload = (e) => {\n",
              "        resolve(e.target.result);\n",
              "      };\n",
              "      reader.readAsArrayBuffer(file);\n",
              "    });\n",
              "    // Wait for the data to be ready.\n",
              "    let fileData = yield {\n",
              "      promise: fileDataPromise,\n",
              "      response: {\n",
              "        action: 'continue',\n",
              "      }\n",
              "    };\n",
              "\n",
              "    // Use a chunked sending to avoid message size limits. See b/62115660.\n",
              "    let position = 0;\n",
              "    do {\n",
              "      const length = Math.min(fileData.byteLength - position, MAX_PAYLOAD_SIZE);\n",
              "      const chunk = new Uint8Array(fileData, position, length);\n",
              "      position += length;\n",
              "\n",
              "      const base64 = btoa(String.fromCharCode.apply(null, chunk));\n",
              "      yield {\n",
              "        response: {\n",
              "          action: 'append',\n",
              "          file: file.name,\n",
              "          data: base64,\n",
              "        },\n",
              "      };\n",
              "\n",
              "      let percentDone = fileData.byteLength === 0 ?\n",
              "          100 :\n",
              "          Math.round((position / fileData.byteLength) * 100);\n",
              "      percent.textContent = `${percentDone}% done`;\n",
              "\n",
              "    } while (position < fileData.byteLength);\n",
              "  }\n",
              "\n",
              "  // All done.\n",
              "  yield {\n",
              "    response: {\n",
              "      action: 'complete',\n",
              "    }\n",
              "  };\n",
              "}\n",
              "\n",
              "scope.google = scope.google || {};\n",
              "scope.google.colab = scope.google.colab || {};\n",
              "scope.google.colab._files = {\n",
              "  _uploadFiles,\n",
              "  _uploadFilesContinue,\n",
              "};\n",
              "})(self);\n",
              "</script> "
            ]
          },
          "metadata": {}
        },
        {
          "output_type": "stream",
          "name": "stdout",
          "text": [
            "Saving product_recommendation_data.csv to product_recommendation_data (1).csv\n"
          ]
        }
      ]
    },
    {
      "cell_type": "code",
      "source": [
        "import sqlite3\n",
        "\n",
        "# Connect to SQLite memory database (or use a file-based DB if needed)\n",
        "conn = sqlite3.connect(\":memory:\")\n",
        "cursor = conn.cursor()\n",
        "\n",
        "# Create interactions table\n",
        "cursor.execute('''\n",
        "CREATE TABLE interactions (\n",
        "    Customer_ID TEXT,\n",
        "    Product_ID TEXT,\n",
        "    Interaction_Type TEXT\n",
        ")\n",
        "''')\n",
        "\n",
        "# Sample data insertion (simulating customer interactions)\n",
        "sample_interactions = [\n",
        "    ('C1000', 'P2000', 'purchase'),\n",
        "    ('C1001', 'P2003', 'click'),\n",
        "    ('C1002', 'P2002', 'add_to_cart'),\n",
        "    ('C1003', 'P2004', 'purchase'),\n",
        "    ('C1000', 'P2001', 'click'),\n",
        "    ('C1001', 'P2002', 'purchase')\n",
        "]\n",
        "\n",
        "cursor.executemany(\"INSERT INTO interactions VALUES (?, ?, ?)\", sample_interactions)\n",
        "conn.commit()\n",
        "\n",
        "# Function to get most frequently interacted products\n",
        "def get_top_products():\n",
        "    query = '''\n",
        "    SELECT Product_ID, COUNT(*) as count FROM interactions\n",
        "    GROUP BY Product_ID\n",
        "    ORDER BY count DESC\n",
        "    LIMIT 5\n",
        "    '''\n",
        "    top_products = pd.read_sql_query(query, conn)\n",
        "    return top_products\n",
        "\n",
        "# Get top products\n",
        "top_products_df = get_top_products()\n",
        "print(\"🎯 Top Recommended Products Based on Frequency:\\n\", top_products_df)\n",
        "\n",
        "# Close database connection\n",
        "conn.close()\n"
      ],
      "metadata": {
        "id": "gDapTrtZk4H1",
        "outputId": "2a39d4a7-daf6-46a1-e23c-163b460b586e",
        "colab": {
          "base_uri": "https://localhost:8080/"
        }
      },
      "execution_count": null,
      "outputs": [
        {
          "output_type": "stream",
          "name": "stdout",
          "text": [
            "🎯 Top Recommended Products Based on Frequency:\n",
            "   Product_ID  count\n",
            "0      P2002      2\n",
            "1      P2004      1\n",
            "2      P2003      1\n",
            "3      P2001      1\n",
            "4      P2000      1\n"
          ]
        }
      ]
    },
    {
      "cell_type": "code",
      "source": [
        "import numpy as np\n",
        "\n",
        "class MultiArmedBandit:\n",
        "    def __init__(self, product_ids):\n",
        "        self.product_ids = product_ids\n",
        "        self.product_rewards = {product: 0 for product in product_ids}\n",
        "        self.product_counts = {product: 0 for product in product_ids}\n",
        "\n",
        "    def select_product(self):\n",
        "        \"\"\"Use an epsilon-greedy approach to select a product.\"\"\"\n",
        "        epsilon = 0.1  # 10% chance of exploration\n",
        "        if np.random.rand() < epsilon:\n",
        "            return np.random.choice(self.product_ids)  # Explore\n",
        "        else:\n",
        "            return max(self.product_rewards, key=self.product_rewards.get)  # Exploit\n",
        "\n",
        "    def update_rewards(self, product_id, reward):\n",
        "        \"\"\"Update rewards based on customer feedback.\"\"\"\n",
        "        self.product_counts[product_id] += 1\n",
        "        self.product_rewards[product_id] += reward\n"
      ],
      "metadata": {
        "id": "G0UZY8kCk8p4"
      },
      "execution_count": null,
      "outputs": []
    },
    {
      "cell_type": "code",
      "source": [
        "# Get top products from frequency-based system\n",
        "top_product_ids = top_products_df[\"Product_ID\"].tolist()\n",
        "\n",
        "# Initialize Bandit Algorithm\n",
        "bandit = MultiArmedBandit(top_product_ids)\n",
        "\n",
        "# Simulate selecting a product for recommendation\n",
        "selected_product = bandit.select_product()\n",
        "print(f\"🎯 Recommended Product using Bandit: {selected_product}\")\n",
        "\n",
        "# Simulate customer interaction (1 if they purchase, 0 if they ignore)\n",
        "customer_feedback = np.random.choice([0, 1])\n",
        "bandit.update_rewards(selected_product, customer_feedback)\n"
      ],
      "metadata": {
        "id": "htc_RVzilFYA",
        "outputId": "8f284307-c4ad-47a1-8042-31ec5dc38b92",
        "colab": {
          "base_uri": "https://localhost:8080/"
        }
      },
      "execution_count": null,
      "outputs": [
        {
          "output_type": "stream",
          "name": "stdout",
          "text": [
            "🎯 Recommended Product using Bandit: P2002\n"
          ]
        }
      ]
    },
    {
      "cell_type": "code",
      "source": [
        "import sqlite3\n",
        "\n",
        "# Connect to SQLite database (or create if not exists)\n",
        "conn = sqlite3.connect(\"recommendation_memory.db\")\n",
        "cursor = conn.cursor()\n",
        "\n",
        "# Create interactions table if not exists\n",
        "cursor.execute('''\n",
        "    CREATE TABLE IF NOT EXISTS interactions (\n",
        "        customer_id TEXT,\n",
        "        product_id TEXT,\n",
        "        reward INTEGER,\n",
        "        timestamp DATETIME DEFAULT CURRENT_TIMESTAMP\n",
        "    )\n",
        "''')\n",
        "conn.commit()\n",
        "\n"
      ],
      "metadata": {
        "id": "ros-HJkwlG07"
      },
      "execution_count": null,
      "outputs": []
    },
    {
      "cell_type": "code",
      "source": [
        "def store_interaction(customer_id, product_id, reward):\n",
        "    \"\"\"Stores the interaction into SQLite database.\"\"\"\n",
        "    cursor.execute(\n",
        "        \"INSERT INTO interactions (customer_id, product_id, reward) VALUES (?, ?, ?)\",\n",
        "        (customer_id, product_id, reward)\n",
        "    )\n",
        "    conn.commit()\n"
      ],
      "metadata": {
        "id": "3DuSHO5vlnRF"
      },
      "execution_count": null,
      "outputs": []
    },
    {
      "cell_type": "code",
      "source": [
        "class MultiArmedBanditSQLite:\n",
        "    def __init__(self, product_ids):\n",
        "        self.product_ids = product_ids\n",
        "        self.product_rewards = {product: 0 for product in product_ids}\n",
        "        self.product_counts = {product: 0 for product in product_ids}\n",
        "\n",
        "    def select_product(self):\n",
        "        \"\"\"Use an epsilon-greedy approach to select a product.\"\"\"\n",
        "        epsilon = 0.1\n",
        "        if np.random.rand() < epsilon:\n",
        "            return np.random.choice(self.product_ids)  # Explore\n",
        "        else:\n",
        "            return max(self.product_rewards, key=self.product_rewards.get)  # Exploit\n",
        "\n",
        "    def update_rewards(self, customer_id, product_id, reward):\n",
        "        \"\"\"Update rewards in memory and store in database.\"\"\"\n",
        "        self.product_counts[product_id] += 1\n",
        "        self.product_rewards[product_id] += reward\n",
        "\n",
        "        # Store in SQLite\n",
        "        store_interaction(customer_id, product_id, reward)\n"
      ],
      "metadata": {
        "id": "8cVpSV0Klrjp"
      },
      "execution_count": null,
      "outputs": []
    },
    {
      "cell_type": "code",
      "source": [
        "# Load product IDs\n",
        "top_product_ids = top_products_df[\"Product_ID\"].tolist()\n",
        "\n",
        "# Initialize Bandit with SQLite\n",
        "bandit = MultiArmedBanditSQLite(top_product_ids)\n",
        "\n",
        "# Simulate a recommendation for a customer\n",
        "customer_id = \"C1000\"  # Example customer\n",
        "selected_product = bandit.select_product()\n",
        "print(f\"🎯 Recommended Product for {customer_id}: {selected_product}\")\n",
        "\n",
        "# Simulate customer feedback (1 if they purchase, 0 if they ignore)\n",
        "customer_feedback = np.random.choice([0, 1])\n",
        "bandit.update_rewards(customer_id, selected_product, customer_feedback)\n",
        "\n",
        "# Fetch interactions history from database\n",
        "cursor.execute(\"SELECT * FROM interactions\")\n",
        "print(cursor.fetchall())  # View stored interactions\n"
      ],
      "metadata": {
        "id": "f4Y_cTx6lv5p",
        "outputId": "423dd0ca-1fb7-4f57-f25e-440c24587348",
        "colab": {
          "base_uri": "https://localhost:8080/"
        }
      },
      "execution_count": null,
      "outputs": [
        {
          "output_type": "stream",
          "name": "stdout",
          "text": [
            "🎯 Recommended Product for C1000: P2001\n",
            "[('C1000', 'P2000', 1, '2025-04-04 15:21:15'), ('C1000', 'P2001', b'\\x01\\x00\\x00\\x00\\x00\\x00\\x00\\x00', '2025-04-04 16:16:35')]\n"
          ]
        }
      ]
    },
    {
      "cell_type": "code",
      "source": [
        "import sqlite3\n",
        "\n",
        "# Connect to SQLite database\n",
        "conn = sqlite3.connect(\"recommendation_memory.db\")\n",
        "cursor = conn.cursor()\n",
        "\n",
        "# Drop the old table (only if needed)\n",
        "cursor.execute(\"DROP TABLE IF EXISTS interactions\")\n",
        "\n",
        "# Commit changes\n",
        "conn.commit()\n"
      ],
      "metadata": {
        "id": "erOuYcztl0cp"
      },
      "execution_count": null,
      "outputs": []
    },
    {
      "cell_type": "code",
      "source": [
        "# Create interactions table with proper schema\n",
        "cursor.execute('''\n",
        "    CREATE TABLE IF NOT EXISTS interactions (\n",
        "        customer_id TEXT,\n",
        "        product_id TEXT,\n",
        "        reward INTEGER,\n",
        "        timestamp DATETIME DEFAULT CURRENT_TIMESTAMP\n",
        "    )\n",
        "''')\n",
        "\n",
        "conn.commit()\n",
        "print(\"✅ Table 'interactions' created successfully!\")\n"
      ],
      "metadata": {
        "id": "8Df8U4uVl6xJ",
        "outputId": "abb86421-810a-4589-e259-1f1ba5162b09",
        "colab": {
          "base_uri": "https://localhost:8080/"
        }
      },
      "execution_count": null,
      "outputs": [
        {
          "output_type": "stream",
          "name": "stdout",
          "text": [
            "✅ Table 'interactions' created successfully!\n"
          ]
        }
      ]
    },
    {
      "cell_type": "code",
      "source": [
        "cursor.execute(\"PRAGMA table_info(interactions)\")\n",
        "print(cursor.fetchall())  # This will show all columns in the table\n"
      ],
      "metadata": {
        "id": "6I80p57nl8Fy",
        "outputId": "ac57441d-12d6-4e46-ffc3-0af2a1518b92",
        "colab": {
          "base_uri": "https://localhost:8080/"
        }
      },
      "execution_count": null,
      "outputs": [
        {
          "output_type": "stream",
          "name": "stdout",
          "text": [
            "[(0, 'customer_id', 'TEXT', 0, None, 0), (1, 'product_id', 'TEXT', 0, None, 0), (2, 'reward', 'INTEGER', 0, None, 0), (3, 'timestamp', 'DATETIME', 0, 'CURRENT_TIMESTAMP', 0)]\n"
          ]
        }
      ]
    },
    {
      "cell_type": "code",
      "source": [
        "[(0, 'customer_id', 'TEXT', 0, None, 0),\n",
        " (1, 'product_id', 'TEXT', 0, None, 0),\n",
        " (2, 'reward', 'INTEGER', 0, None, 0),\n",
        " (3, 'timestamp', 'DATETIME', 0, None, 0)]\n"
      ],
      "metadata": {
        "id": "1jNvax2el_Ji",
        "outputId": "ab613c8f-8a71-4091-a6a9-573a849b843b",
        "colab": {
          "base_uri": "https://localhost:8080/"
        }
      },
      "execution_count": null,
      "outputs": [
        {
          "output_type": "execute_result",
          "data": {
            "text/plain": [
              "[(0, 'customer_id', 'TEXT', 0, None, 0),\n",
              " (1, 'product_id', 'TEXT', 0, None, 0),\n",
              " (2, 'reward', 'INTEGER', 0, None, 0),\n",
              " (3, 'timestamp', 'DATETIME', 0, None, 0)]"
            ]
          },
          "metadata": {},
          "execution_count": 38
        }
      ]
    },
    {
      "cell_type": "code",
      "source": [
        "customer_id = \"C1000\"\n",
        "selected_product = \"P2000\"\n",
        "customer_feedback = 1  # Simulating a purchase\n",
        "\n",
        "bandit.update_rewards(customer_id, selected_product, customer_feedback)\n",
        "\n",
        "# Fetch interactions history from database\n",
        "cursor.execute(\"SELECT * FROM interactions\")\n",
        "print(cursor.fetchall())  # This should return recorded interactions\n"
      ],
      "metadata": {
        "id": "T2eEEld8mCtU",
        "outputId": "3f629016-cbc0-4d19-aa46-114b09a6949b",
        "colab": {
          "base_uri": "https://localhost:8080/"
        }
      },
      "execution_count": null,
      "outputs": [
        {
          "output_type": "stream",
          "name": "stdout",
          "text": [
            "[('C1000', 'P2000', 1, '2025-04-04 16:17:51')]\n"
          ]
        }
      ]
    },
    {
      "cell_type": "code",
      "source": [
        "pip install streamlit\n"
      ],
      "metadata": {
        "id": "HQjtv2nDmHRX",
        "outputId": "c365b043-1d21-4db3-a3fd-1291f7b222fb",
        "colab": {
          "base_uri": "https://localhost:8080/"
        }
      },
      "execution_count": null,
      "outputs": [
        {
          "output_type": "stream",
          "name": "stdout",
          "text": [
            "Requirement already satisfied: streamlit in /usr/local/lib/python3.11/dist-packages (1.44.1)\n",
            "Requirement already satisfied: altair<6,>=4.0 in /usr/local/lib/python3.11/dist-packages (from streamlit) (5.5.0)\n",
            "Requirement already satisfied: blinker<2,>=1.0.0 in /usr/local/lib/python3.11/dist-packages (from streamlit) (1.9.0)\n",
            "Requirement already satisfied: cachetools<6,>=4.0 in /usr/local/lib/python3.11/dist-packages (from streamlit) (5.5.2)\n",
            "Requirement already satisfied: click<9,>=7.0 in /usr/local/lib/python3.11/dist-packages (from streamlit) (8.1.8)\n",
            "Requirement already satisfied: numpy<3,>=1.23 in /usr/local/lib/python3.11/dist-packages (from streamlit) (2.0.2)\n",
            "Requirement already satisfied: packaging<25,>=20 in /usr/local/lib/python3.11/dist-packages (from streamlit) (24.2)\n",
            "Requirement already satisfied: pandas<3,>=1.4.0 in /usr/local/lib/python3.11/dist-packages (from streamlit) (2.2.2)\n",
            "Requirement already satisfied: pillow<12,>=7.1.0 in /usr/local/lib/python3.11/dist-packages (from streamlit) (11.1.0)\n",
            "Requirement already satisfied: protobuf<6,>=3.20 in /usr/local/lib/python3.11/dist-packages (from streamlit) (5.29.4)\n",
            "Requirement already satisfied: pyarrow>=7.0 in /usr/local/lib/python3.11/dist-packages (from streamlit) (18.1.0)\n",
            "Requirement already satisfied: requests<3,>=2.27 in /usr/local/lib/python3.11/dist-packages (from streamlit) (2.32.3)\n",
            "Requirement already satisfied: tenacity<10,>=8.1.0 in /usr/local/lib/python3.11/dist-packages (from streamlit) (9.0.0)\n",
            "Requirement already satisfied: toml<2,>=0.10.1 in /usr/local/lib/python3.11/dist-packages (from streamlit) (0.10.2)\n",
            "Requirement already satisfied: typing-extensions<5,>=4.4.0 in /usr/local/lib/python3.11/dist-packages (from streamlit) (4.13.0)\n",
            "Requirement already satisfied: watchdog<7,>=2.1.5 in /usr/local/lib/python3.11/dist-packages (from streamlit) (6.0.0)\n",
            "Requirement already satisfied: gitpython!=3.1.19,<4,>=3.0.7 in /usr/local/lib/python3.11/dist-packages (from streamlit) (3.1.44)\n",
            "Requirement already satisfied: pydeck<1,>=0.8.0b4 in /usr/local/lib/python3.11/dist-packages (from streamlit) (0.9.1)\n",
            "Requirement already satisfied: tornado<7,>=6.0.3 in /usr/local/lib/python3.11/dist-packages (from streamlit) (6.4.2)\n",
            "Requirement already satisfied: jinja2 in /usr/local/lib/python3.11/dist-packages (from altair<6,>=4.0->streamlit) (3.1.6)\n",
            "Requirement already satisfied: jsonschema>=3.0 in /usr/local/lib/python3.11/dist-packages (from altair<6,>=4.0->streamlit) (4.23.0)\n",
            "Requirement already satisfied: narwhals>=1.14.2 in /usr/local/lib/python3.11/dist-packages (from altair<6,>=4.0->streamlit) (1.33.0)\n",
            "Requirement already satisfied: gitdb<5,>=4.0.1 in /usr/local/lib/python3.11/dist-packages (from gitpython!=3.1.19,<4,>=3.0.7->streamlit) (4.0.12)\n",
            "Requirement already satisfied: python-dateutil>=2.8.2 in /usr/local/lib/python3.11/dist-packages (from pandas<3,>=1.4.0->streamlit) (2.8.2)\n",
            "Requirement already satisfied: pytz>=2020.1 in /usr/local/lib/python3.11/dist-packages (from pandas<3,>=1.4.0->streamlit) (2025.2)\n",
            "Requirement already satisfied: tzdata>=2022.7 in /usr/local/lib/python3.11/dist-packages (from pandas<3,>=1.4.0->streamlit) (2025.2)\n",
            "Requirement already satisfied: charset-normalizer<4,>=2 in /usr/local/lib/python3.11/dist-packages (from requests<3,>=2.27->streamlit) (3.4.1)\n",
            "Requirement already satisfied: idna<4,>=2.5 in /usr/local/lib/python3.11/dist-packages (from requests<3,>=2.27->streamlit) (3.10)\n",
            "Requirement already satisfied: urllib3<3,>=1.21.1 in /usr/local/lib/python3.11/dist-packages (from requests<3,>=2.27->streamlit) (2.3.0)\n",
            "Requirement already satisfied: certifi>=2017.4.17 in /usr/local/lib/python3.11/dist-packages (from requests<3,>=2.27->streamlit) (2025.1.31)\n",
            "Requirement already satisfied: smmap<6,>=3.0.1 in /usr/local/lib/python3.11/dist-packages (from gitdb<5,>=4.0.1->gitpython!=3.1.19,<4,>=3.0.7->streamlit) (5.0.2)\n",
            "Requirement already satisfied: MarkupSafe>=2.0 in /usr/local/lib/python3.11/dist-packages (from jinja2->altair<6,>=4.0->streamlit) (3.0.2)\n",
            "Requirement already satisfied: attrs>=22.2.0 in /usr/local/lib/python3.11/dist-packages (from jsonschema>=3.0->altair<6,>=4.0->streamlit) (25.3.0)\n",
            "Requirement already satisfied: jsonschema-specifications>=2023.03.6 in /usr/local/lib/python3.11/dist-packages (from jsonschema>=3.0->altair<6,>=4.0->streamlit) (2024.10.1)\n",
            "Requirement already satisfied: referencing>=0.28.4 in /usr/local/lib/python3.11/dist-packages (from jsonschema>=3.0->altair<6,>=4.0->streamlit) (0.36.2)\n",
            "Requirement already satisfied: rpds-py>=0.7.1 in /usr/local/lib/python3.11/dist-packages (from jsonschema>=3.0->altair<6,>=4.0->streamlit) (0.24.0)\n",
            "Requirement already satisfied: six>=1.5 in /usr/local/lib/python3.11/dist-packages (from python-dateutil>=2.8.2->pandas<3,>=1.4.0->streamlit) (1.17.0)\n"
          ]
        }
      ]
    },
    {
      "cell_type": "code",
      "source": [
        "import streamlit as st\n",
        "import pandas as pd\n",
        "import sqlite3\n",
        "import numpy as np\n",
        "import time\n",
        "\n",
        "# Load Data\n",
        "@st.cache_data\n",
        "def load_data():\n",
        "    customer_df = pd.read_csv(\"customer_data_collection.csv\")\n",
        "    product_df = pd.read_csv(\"product_recommendation_data.csv\")\n",
        "    return customer_df, product_df\n",
        "\n",
        "customer_df, product_df = load_data()\n",
        "\n",
        "# Connect to SQLite\n",
        "conn = sqlite3.connect(\"recommendation_memory.db\", check_same_thread=False)\n",
        "cursor = conn.cursor()\n",
        "\n",
        "# Ensure the interactions table exists\n",
        "cursor.execute('''\n",
        "    CREATE TABLE IF NOT EXISTS interactions (\n",
        "        customer_id TEXT,\n",
        "        product_id TEXT,\n",
        "        reward INTEGER,\n",
        "        timestamp DATETIME DEFAULT CURRENT_TIMESTAMP\n",
        "    )\n",
        "''')\n",
        "conn.commit()\n",
        "\n",
        "# 💡 Multi-Armed Bandit Recommendation System\n",
        "class BanditRecommendation:\n",
        "    def __init__(self, product_df):\n",
        "        self.products = product_df[\"Product_ID\"].tolist()\n",
        "        self.product_rewards = {p: 0 for p in self.products}\n",
        "\n",
        "    def select_product(self):\n",
        "        # Select a product based on highest reward probability\n",
        "        return max(self.product_rewards, key=self.product_rewards.get)\n",
        "\n",
        "    def update_rewards(self, customer_id, product_id, reward):\n",
        "        # Update product rewards and store in DB\n",
        "        self.product_rewards[product_id] += reward\n",
        "        cursor.execute(\"INSERT INTO interactions (customer_id, product_id, reward) VALUES (?, ?, ?)\",\n",
        "                       (customer_id, product_id, reward))\n",
        "        conn.commit()\n",
        "\n",
        "# Initialize bandit model\n",
        "bandit = BanditRecommendation(product_df)\n",
        "\n",
        "# 🌟 Streamlit UI\n",
        "st.title(\"📊 AI-Powered Product Recommendation System\")\n",
        "\n",
        "# Customer selection\n",
        "customer_id = st.selectbox(\"Select Customer ID\", customer_df[\"Customer_ID\"].unique())\n",
        "\n",
        "if st.button(\"Get Recommendation\"):\n",
        "    selected_product = bandit.select_product()\n",
        "    st.success(f\"🎯 Recommended Product: **{selected_product}**\")\n",
        "\n",
        "    # Simulating user interaction (purchase or ignore)\n",
        "    feedback = st.radio(\"Did the customer purchase this product?\", [\"Yes\", \"No\"])\n",
        "\n",
        "    if feedback:\n",
        "        reward = 1 if feedback == \"Yes\" else 0\n",
        "        bandit.update_rewards(customer_id, selected_product, reward)\n",
        "        st.write(\"✅ Feedback stored! The recommendation system is now learning in real-time.\")\n",
        "\n",
        "    # Show interaction history\n",
        "    st.subheader(\"📌 Customer Interaction History\")\n",
        "    df_history = pd.read_sql(\"SELECT * FROM interactions WHERE customer_id=?\", conn, params=(customer_id,))\n",
        "    st.dataframe(df_history)\n",
        "\n",
        "# Close connection\n",
        "conn.close()\n"
      ],
      "metadata": {
        "id": "VbnGQNm1mQG4",
        "outputId": "04d7afa4-5d8c-4a31-ca2e-40f6319f9a78",
        "colab": {
          "base_uri": "https://localhost:8080/"
        }
      },
      "execution_count": null,
      "outputs": [
        {
          "output_type": "stream",
          "name": "stderr",
          "text": [
            "2025-04-04 16:18:55.359 No runtime found, using MemoryCacheStorageManager\n",
            "2025-04-04 16:18:55.379 Thread 'MainThread': missing ScriptRunContext! This warning can be ignored when running in bare mode.\n",
            "2025-04-04 16:18:55.380 Thread 'MainThread': missing ScriptRunContext! This warning can be ignored when running in bare mode.\n",
            "2025-04-04 16:18:55.392 Thread 'MainThread': missing ScriptRunContext! This warning can be ignored when running in bare mode.\n",
            "2025-04-04 16:18:55.393 Thread 'MainThread': missing ScriptRunContext! This warning can be ignored when running in bare mode.\n",
            "2025-04-04 16:18:55.407 Thread 'MainThread': missing ScriptRunContext! This warning can be ignored when running in bare mode.\n",
            "2025-04-04 16:18:55.411 Thread 'MainThread': missing ScriptRunContext! This warning can be ignored when running in bare mode.\n",
            "2025-04-04 16:18:55.416 Thread 'MainThread': missing ScriptRunContext! This warning can be ignored when running in bare mode.\n",
            "2025-04-04 16:18:55.419 Thread 'MainThread': missing ScriptRunContext! This warning can be ignored when running in bare mode.\n",
            "2025-04-04 16:18:55.422 Thread 'MainThread': missing ScriptRunContext! This warning can be ignored when running in bare mode.\n",
            "2025-04-04 16:18:55.423 Thread 'MainThread': missing ScriptRunContext! This warning can be ignored when running in bare mode.\n",
            "2025-04-04 16:18:55.425 Thread 'MainThread': missing ScriptRunContext! This warning can be ignored when running in bare mode.\n",
            "2025-04-04 16:18:55.427 Thread 'MainThread': missing ScriptRunContext! This warning can be ignored when running in bare mode.\n",
            "2025-04-04 16:18:55.429 Thread 'MainThread': missing ScriptRunContext! This warning can be ignored when running in bare mode.\n"
          ]
        }
      ]
    },
    {
      "cell_type": "code",
      "source": [
        "import streamlit as st\n",
        "import pandas as pd\n",
        "import sqlite3\n",
        "import numpy as np\n",
        "import matplotlib.pyplot as plt\n",
        "\n",
        "# Database connection\n",
        "def get_db_connection():\n",
        "    conn = sqlite3.connect(\"recommendation_system.db\")\n",
        "    return conn\n",
        "\n",
        "# Load customer and product data\n",
        "@st.cache_data\n",
        "def load_data():\n",
        "    customer_df = pd.read_csv(\"customer_data_collection.csv\")\n",
        "    product_df = pd.read_csv(\"product_recommendation_data.csv\")\n",
        "    return customer_df, product_df\n",
        "\n",
        "# Recommendation logic using frequency-based & Bandit approach\n",
        "def recommend_product(customer_id, product_df):\n",
        "    np.random.seed(42)  # For reproducibility\n",
        "    recommended_product = product_df.sample(1).iloc[0]\n",
        "    return recommended_product\n",
        "\n",
        "# Store interaction in database\n",
        "def store_interaction(customer_id, product_id, reward):\n",
        "    conn = get_db_connection()\n",
        "    cursor = conn.cursor()\n",
        "    cursor.execute(\"\"\"\n",
        "        CREATE TABLE IF NOT EXISTS interactions (\n",
        "            customer_id TEXT,\n",
        "            product_id TEXT,\n",
        "            reward INTEGER\n",
        "        )\n",
        "    \"\"\")\n",
        "    cursor.execute(\n",
        "        \"INSERT INTO interactions (customer_id, product_id, reward) VALUES (?, ?, ?)\",\n",
        "        (customer_id, product_id, reward),\n",
        "    )\n",
        "    conn.commit()\n",
        "    conn.close()\n",
        "\n",
        "# Streamlit UI\n",
        "st.title(\"🔍 Hyper-Personalized Product Recommendation System\")\n",
        "\n",
        "customer_df, product_df = load_data()\n",
        "\n",
        "# Select customer\n",
        "customer_id = st.selectbox(\"Select Customer ID\", customer_df[\"Customer_ID\"].unique())\n",
        "\n",
        "if st.button(\"Generate Recommendation\"):\n",
        "    recommended_product = recommend_product(customer_id, product_df)\n",
        "    st.success(f\"✅ Recommended Product: {recommended_product['Product_ID']} - {recommended_product['Category']}\")\n",
        "\n",
        "    # Simulate customer interaction (1 = purchased, 0 = ignored)\n",
        "    reward = np.random.choice([0, 1])\n",
        "    store_interaction(customer_id, recommended_product[\"Product_ID\"], reward)\n",
        "\n",
        "    st.write(\"🛒 **Recommendation Logged in Database**\")\n",
        "\n",
        "# Display Interaction History\n",
        "if st.checkbox(\"Show Interaction History\"):\n",
        "    conn = get_db_connection()\n",
        "    interaction_df = pd.read_sql_query(\"SELECT * FROM interactions\", conn)\n",
        "    conn.close()\n",
        "    st.dataframe(interaction_df)\n",
        "\n",
        "st.sidebar.title(\"📊 Insights\")\n",
        "if st.sidebar.button(\"Show Product Distribution\"):\n",
        "    fig, ax = plt.subplots()\n",
        "    product_df[\"Category\"].value_counts().plot(kind=\"bar\", ax=ax)\n",
        "    st.sidebar.pyplot(fig)\n",
        "\n",
        "st.sidebar.write(\"📌 Developed by Teju 🚀\")\n"
      ],
      "metadata": {
        "id": "OEr8sbafmjfU",
        "outputId": "1f1930c0-c0ab-4ba6-802a-446767c61125",
        "colab": {
          "base_uri": "https://localhost:8080/"
        }
      },
      "execution_count": null,
      "outputs": [
        {
          "output_type": "stream",
          "name": "stderr",
          "text": [
            "2025-04-04 16:19:54.570 No runtime found, using MemoryCacheStorageManager\n",
            "2025-04-04 16:19:54.586 Thread 'MainThread': missing ScriptRunContext! This warning can be ignored when running in bare mode.\n",
            "2025-04-04 16:19:54.594 Thread 'MainThread': missing ScriptRunContext! This warning can be ignored when running in bare mode.\n",
            "2025-04-04 16:19:54.615 Thread 'MainThread': missing ScriptRunContext! This warning can be ignored when running in bare mode.\n",
            "2025-04-04 16:19:54.617 Thread 'MainThread': missing ScriptRunContext! This warning can be ignored when running in bare mode.\n",
            "2025-04-04 16:19:54.620 Thread 'MainThread': missing ScriptRunContext! This warning can be ignored when running in bare mode.\n",
            "2025-04-04 16:19:54.629 Thread 'MainThread': missing ScriptRunContext! This warning can be ignored when running in bare mode.\n",
            "2025-04-04 16:19:54.643 Thread 'MainThread': missing ScriptRunContext! This warning can be ignored when running in bare mode.\n",
            "2025-04-04 16:19:54.652 Thread 'MainThread': missing ScriptRunContext! This warning can be ignored when running in bare mode.\n",
            "2025-04-04 16:19:54.654 Thread 'MainThread': missing ScriptRunContext! This warning can be ignored when running in bare mode.\n",
            "2025-04-04 16:19:54.655 Thread 'MainThread': missing ScriptRunContext! This warning can be ignored when running in bare mode.\n",
            "2025-04-04 16:19:54.656 Thread 'MainThread': missing ScriptRunContext! This warning can be ignored when running in bare mode.\n",
            "2025-04-04 16:19:54.657 Thread 'MainThread': missing ScriptRunContext! This warning can be ignored when running in bare mode.\n",
            "2025-04-04 16:19:54.659 Thread 'MainThread': missing ScriptRunContext! This warning can be ignored when running in bare mode.\n",
            "2025-04-04 16:19:54.660 Thread 'MainThread': missing ScriptRunContext! This warning can be ignored when running in bare mode.\n",
            "2025-04-04 16:19:54.661 Thread 'MainThread': missing ScriptRunContext! This warning can be ignored when running in bare mode.\n",
            "2025-04-04 16:19:54.662 Thread 'MainThread': missing ScriptRunContext! This warning can be ignored when running in bare mode.\n",
            "2025-04-04 16:19:54.664 Thread 'MainThread': missing ScriptRunContext! This warning can be ignored when running in bare mode.\n",
            "2025-04-04 16:19:54.665 Thread 'MainThread': missing ScriptRunContext! This warning can be ignored when running in bare mode.\n",
            "2025-04-04 16:19:54.667 Thread 'MainThread': missing ScriptRunContext! This warning can be ignored when running in bare mode.\n",
            "2025-04-04 16:19:54.670 Thread 'MainThread': missing ScriptRunContext! This warning can be ignored when running in bare mode.\n",
            "2025-04-04 16:19:54.672 Thread 'MainThread': missing ScriptRunContext! This warning can be ignored when running in bare mode.\n",
            "2025-04-04 16:19:54.673 Thread 'MainThread': missing ScriptRunContext! This warning can be ignored when running in bare mode.\n",
            "2025-04-04 16:19:54.676 Thread 'MainThread': missing ScriptRunContext! This warning can be ignored when running in bare mode.\n",
            "2025-04-04 16:19:54.677 Thread 'MainThread': missing ScriptRunContext! This warning can be ignored when running in bare mode.\n",
            "2025-04-04 16:19:54.677 Thread 'MainThread': missing ScriptRunContext! This warning can be ignored when running in bare mode.\n",
            "2025-04-04 16:19:54.679 Thread 'MainThread': missing ScriptRunContext! This warning can be ignored when running in bare mode.\n",
            "2025-04-04 16:19:54.682 Thread 'MainThread': missing ScriptRunContext! This warning can be ignored when running in bare mode.\n",
            "2025-04-04 16:19:54.684 Thread 'MainThread': missing ScriptRunContext! This warning can be ignored when running in bare mode.\n",
            "2025-04-04 16:19:54.686 Thread 'MainThread': missing ScriptRunContext! This warning can be ignored when running in bare mode.\n"
          ]
        }
      ]
    },
    {
      "cell_type": "code",
      "source": [
        "import sqlite3\n",
        "\n",
        "# Connect to database\n",
        "conn = sqlite3.connect(\"recommendation_system.db\")\n",
        "cursor = conn.cursor()\n",
        "\n",
        "# Check if 'interactions' table exists\n",
        "cursor.execute(\"PRAGMA table_info(interactions)\")\n",
        "columns = cursor.fetchall()\n",
        "\n",
        "# Print column names\n",
        "print([col[1] for col in columns])\n"
      ],
      "metadata": {
        "id": "KgT8mfqamkwz",
        "outputId": "53cc9bd0-53f5-41d3-8335-6905f8b846e9",
        "colab": {
          "base_uri": "https://localhost:8080/"
        }
      },
      "execution_count": null,
      "outputs": [
        {
          "output_type": "stream",
          "name": "stdout",
          "text": [
            "['customer_id', 'product_id', 'reward']\n"
          ]
        }
      ]
    },
    {
      "cell_type": "code",
      "source": [
        "cursor.execute('''CREATE TABLE IF NOT EXISTS interactions (\n",
        "    customer_id TEXT,\n",
        "    product_id TEXT,\n",
        "    reward INTEGER\n",
        ")''')\n",
        "conn.commit()\n"
      ],
      "metadata": {
        "id": "sqIwqME4mvlc"
      },
      "execution_count": null,
      "outputs": []
    },
    {
      "cell_type": "code",
      "source": [
        "import sqlite3\n",
        "import pandas as pd\n",
        "\n",
        "# Connect to the SQLite database\n",
        "def fetch_interactions():\n",
        "    conn = sqlite3.connect(\"recommendation_system.db\")\n",
        "    df = pd.read_sql(\"SELECT * FROM interactions\", conn)\n",
        "    conn.close()\n",
        "    return df\n"
      ],
      "metadata": {
        "id": "af9kEA0hmzrT"
      },
      "execution_count": null,
      "outputs": []
    },
    {
      "cell_type": "code",
      "source": [
        "if st.button(\"View Interaction History\"):\n",
        "    df = fetch_interactions()\n",
        "    st.write(df)\n"
      ],
      "metadata": {
        "id": "YO_EQC5nm7f-",
        "outputId": "d14afbf2-b2f1-4080-a12f-ff5fbcdd5882",
        "colab": {
          "base_uri": "https://localhost:8080/"
        }
      },
      "execution_count": null,
      "outputs": [
        {
          "output_type": "stream",
          "name": "stderr",
          "text": [
            "2025-04-04 16:21:40.964 Thread 'MainThread': missing ScriptRunContext! This warning can be ignored when running in bare mode.\n",
            "2025-04-04 16:21:40.966 Thread 'MainThread': missing ScriptRunContext! This warning can be ignored when running in bare mode.\n",
            "2025-04-04 16:21:40.967 Thread 'MainThread': missing ScriptRunContext! This warning can be ignored when running in bare mode.\n",
            "2025-04-04 16:21:40.967 Thread 'MainThread': missing ScriptRunContext! This warning can be ignored when running in bare mode.\n",
            "2025-04-04 16:21:40.968 Thread 'MainThread': missing ScriptRunContext! This warning can be ignored when running in bare mode.\n"
          ]
        }
      ]
    },
    {
      "cell_type": "code",
      "source": [
        "import sqlite3\n",
        "conn = sqlite3.connect(\"recommendation_system.db\")\n",
        "cursor = conn.cursor()\n",
        "cursor.execute(\"SELECT * FROM interactions\")\n",
        "print(cursor.fetchall())\n",
        "conn.close()\n"
      ],
      "metadata": {
        "id": "S25iUdjrnEQC",
        "outputId": "98fb1caa-042a-431d-adfa-136acc80e6e9",
        "colab": {
          "base_uri": "https://localhost:8080/"
        }
      },
      "execution_count": null,
      "outputs": [
        {
          "output_type": "stream",
          "name": "stdout",
          "text": [
            "[]\n"
          ]
        }
      ]
    }
  ],
  "metadata": {
    "colab": {
      "toc_visible": true,
      "provenance": []
    },
    "kernelspec": {
      "display_name": "Python 3",
      "name": "python3"
    }
  },
  "nbformat": 4,
  "nbformat_minor": 0
}